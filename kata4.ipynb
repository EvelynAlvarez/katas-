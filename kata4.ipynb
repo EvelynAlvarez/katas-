{
 "cells": [
  {
   "cell_type": "code",
   "execution_count": null,
   "metadata": {},
   "outputs": [],
   "source": []
  },
  {
   "cell_type": "markdown",
   "metadata": {},
   "source": [
    "## Ejercicio 1: Transformar cademas"
   ]
  },
  {
   "cell_type": "code",
   "execution_count": 20,
   "metadata": {},
   "outputs": [
    {
     "name": "stdout",
     "output_type": "stream",
     "text": [
      "['Interesting facts about the Moon', \" The Moon is Earth's only satellite\", ' There are several interesting facts about the Moon and how it affects life here on Earth', ' \\nOn average, the Moon moves 4cm away from the Earth every year', ' This yearly drift is not significant enough to cause immediate effects on Earth', ' The highest daylight temperature of the Moon is 127 C', '']\n",
      "['average', 'temperature', 'distance']\n",
      " \n",
      "On average, the Moon moves 4cm away from the Earth every year\n",
      " The highest daylight temperature of the Moon is 127 Celsius\n"
     ]
    }
   ],
   "source": [
    "text = \"\"\"Interesting facts about the Moon. The Moon is Earth's only satellite. There are several interesting facts about the Moon and how it affects life here on Earth. \n",
    "On average, the Moon moves 4cm away from the Earth every year. This yearly drift is not significant enough to cause immediate effects on Earth. The highest daylight temperature of the Moon is 127 C.\"\"\"\n",
    "\n",
    "f = text.split(\".\")\n",
    "print(f)\n",
    "\n",
    "var = ['average','temperature', 'distance']\n",
    "print(var)\n",
    "'average' in f[3]\n",
    "for variables_que_busco in var:\n",
    "    for enunciado in f:\n",
    "        if variables_que_busco in enunciado:\n",
    "            yjuto= enunciado.replace('C','Celsius')\n",
    "            print(yjuto)\n",
    "            \n"
   ]
  },
  {
   "cell_type": "markdown",
   "metadata": {},
   "source": [
    "## Ejercicio 2: Formateando Cadenas"
   ]
  },
  {
   "cell_type": "code",
   "execution_count": 33,
   "metadata": {},
   "outputs": [
    {
     "name": "stdout",
     "output_type": "stream",
     "text": [
      " Graverdad en la tierra y la luna\n",
      "--------------------------------------\n",
      "Planet Name: Earth \n",
      "Graviy: 1.6199999999999999\n",
      " Graverdad en la tierra y la luna\n",
      "--------------------------------------\n",
      "Planet Name: Marte  \n",
      "Graviy: 1.4300000000000002\n"
     ]
    }
   ],
   "source": [
    "name = \"Moon\"\n",
    "gravity = 0.00162 # in kms\n",
    "planet = \"Earth\"\n",
    "Variable_titulo = 'Graverdad en la tierra y la luna'\n",
    "\n",
    "\n",
    "Formato_de_texto = f''' {Variable_titulo}\n",
    "--------------------------------------\n",
    "Planet Name: {planet} \n",
    "Graviy: {gravity*1000}''' \n",
    "print(Formato_de_texto)\n",
    "\n",
    "planet = 'Marte '\n",
    "gravity  = 0.00143\n",
    "name = 'Ganímedes'\n",
    "\n",
    "Nuevo_Formato_de_texto = ''' {titulo}\n",
    "--------------------------------------\n",
    "Planet Name: {planet} \n",
    "Graviy: {gravity}''' \n",
    "print(Nuevo_Formato_de_texto.format(titulo=Variable_titulo, planet=planet,gravity=gravity*1000))"
   ]
  }
 ],
 "metadata": {
  "interpreter": {
   "hash": "52a545eb93d7f458f60fc1f9ce89cde1b00fa28e39ce3e123d24348b898881e5"
  },
  "kernelspec": {
   "display_name": "Python 3.10.2 64-bit",
   "language": "python",
   "name": "python3"
  },
  "language_info": {
   "codemirror_mode": {
    "name": "ipython",
    "version": 3
   },
   "file_extension": ".py",
   "mimetype": "text/x-python",
   "name": "python",
   "nbconvert_exporter": "python",
   "pygments_lexer": "ipython3",
   "version": "3.10.2"
  },
  "orig_nbformat": 4
 },
 "nbformat": 4,
 "nbformat_minor": 2
}
