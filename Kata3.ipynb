{
 "cells": [
  {
   "cell_type": "markdown",
   "metadata": {},
   "source": [
    "## Ejercicio-Escribir declaraciones if, else, y elif"
   ]
  },
  {
   "cell_type": "code",
   "execution_count": 2,
   "metadata": {},
   "outputs": [
    {
     "name": "stdout",
     "output_type": "stream",
     "text": [
      "Advertencia de asteroide\n"
     ]
    }
   ],
   "source": [
    "velocidad_asteroide=49\n",
    "if velocidad_asteroide>25:\n",
    "    print(\"Advertencia de asteroide\")"
   ]
  },
  {
   "cell_type": "code",
   "execution_count": 5,
   "metadata": {},
   "outputs": [
    {
     "name": "stdout",
     "output_type": "stream",
     "text": [
      "¡Buscar un asteroide en el cieto!\n"
     ]
    }
   ],
   "source": [
    "Vel_asteroide=20\n",
    "if Vel_asteroide>=20:\n",
    "    print(\"¡Buscar un asteroide en el cieto!\")"
   ]
  },
  {
   "cell_type": "markdown",
   "metadata": {},
   "source": [
    "## Ejercicio: Uso de operadores and y or "
   ]
  },
  {
   "cell_type": "code",
   "execution_count": 24,
   "metadata": {},
   "outputs": [
    {
     "name": "stdout",
     "output_type": "stream",
     "text": [
      "No pasa nada\n"
     ]
    }
   ],
   "source": [
    "Tamaño_asteroide=20\n",
    "Vel_asteroide1=19\n",
    "\n",
    "if Tamaño_asteroide>25 or Vel_asteroide1>25: \n",
    "    print(\"Advertencia de asteroide\")\n",
    "elif Vel_asteroide1>=20 and Vel_asteroide1<=25:\n",
    "    print(\"Mira al cielo\")\n",
    "elif Tamaño_asteroide<25:\n",
    "    print(\"No pasa nada\")\n",
    " "
   ]
  }
 ],
 "metadata": {
  "interpreter": {
   "hash": "52a545eb93d7f458f60fc1f9ce89cde1b00fa28e39ce3e123d24348b898881e5"
  },
  "kernelspec": {
   "display_name": "Python 3.10.2 64-bit",
   "language": "python",
   "name": "python3"
  },
  "language_info": {
   "codemirror_mode": {
    "name": "ipython",
    "version": 3
   },
   "file_extension": ".py",
   "mimetype": "text/x-python",
   "name": "python",
   "nbconvert_exporter": "python",
   "pygments_lexer": "ipython3",
   "version": "3.10.2"
  },
  "orig_nbformat": 4
 },
 "nbformat": 4,
 "nbformat_minor": 2
}
