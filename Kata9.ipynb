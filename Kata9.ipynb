{
 "cells": [
  {
   "cell_type": "markdown",
   "metadata": {},
   "source": [
    "## Ejercicio: Uso de funciones en Python"
   ]
  },
  {
   "cell_type": "code",
   "execution_count": 39,
   "metadata": {},
   "outputs": [
    {
     "data": {
      "text/plain": [
       "'payload, propellant, structure,hola'"
      ]
     },
     "execution_count": 39,
     "metadata": {},
     "output_type": "execute_result"
    }
   ],
   "source": [
    "# Defino mi función\n",
    "def rocket_parts():\n",
    "    return 'payload, propellant, structure,hola'\n",
    "\n",
    "# Llamo a mi función\n",
    "\n",
    "rocket_parts()\n",
    "\n",
    "output = rocket_parts()\n",
    "output \n",
    "\n",
    "\n"
   ]
  },
  {
   "cell_type": "code",
   "execution_count": 51,
   "metadata": {},
   "outputs": [
    {
     "name": "stdout",
     "output_type": "stream",
     "text": [
      "promedio:\n",
      "    Total: 69.33333333333333%\n",
      "    Tanque1: 88%\n",
      "    Tanque2: 30%\n",
      "    Tanque3: 90% \n",
      "    \n",
      "81.0\n",
      "promedio:\n",
      "    Total: 70.0%\n",
      "    Tanque1: 80%\n",
      "    Tanque2: 60%\n",
      "    Tanque3: 70% \n",
      "    \n"
     ]
    }
   ],
   "source": [
    "def Tanques(tanque1, tanque2, tanque3):\n",
    "    promedio = (tanque1+tanque2+tanque3)/3\n",
    "    return f\"\"\"promedio:\n",
    "    Total: {promedio}%\n",
    "    Tanque1: {tanque1}%\n",
    "    Tanque2: {tanque2}%\n",
    "    Tanque3: {tanque3}% \n",
    "    \"\"\"\n",
    "print(Tanques(88, 30, 90))\n",
    "\n",
    "def fpromedio(values):\n",
    "    total = sum(values)\n",
    "    valores = len(values)\n",
    "    return total / valores\n",
    "print(fpromedio([88, 90, 65]))\n",
    "print(Tanques(80, 60, 70))\n",
    "\n",
    "\n"
   ]
  },
  {
   "cell_type": "markdown",
   "metadata": {},
   "source": [
    "## Ejercicio 2: Tranajo con argumentos de la palabra clave"
   ]
  },
  {
   "cell_type": "code",
   "execution_count": 69,
   "metadata": {},
   "outputs": [
    {
     "name": "stdout",
     "output_type": "stream",
     "text": [
      "\n",
      "    El destino es: marte\n",
      "    Tiempo total: 118 \n",
      "    Total combustible: 15\n",
      "    \n",
      "(10, 15, 51, 50)\n",
      "{'interno': 50, 'externo': 20, 'adicional': 25}\n",
      "\n",
      "    Destino Marte\n",
      "    Tiepo total: 126 minutos\n",
      "    Total combustible: 95\n",
      "    interno tanque --> 50 litros\n",
      "externo tanque --> 20 litros\n",
      "adicional tanque --> 25 litros\n",
      "\n"
     ]
    }
   ],
   "source": [
    "def reporte(prelanzamiento, tiempo_vuelo, destino, tanque_externo, tanque_interno):\n",
    "    return f\"\"\"\n",
    "    El destino es: {destino}\n",
    "    Tiempo total: {tiempo_vuelo+prelanzamiento} \n",
    "    Total combustible: {tanque_externo+tanque_interno}\n",
    "    \"\"\"\n",
    "print(reporte(88, 30, 'marte', 10,5))\n",
    "\n",
    "\n",
    "def mission_report(destino, *minutos, **combustible):\n",
    "    print(minutos)\n",
    "    print(combustible)\n",
    "    reporte= f\"\"\"\n",
    "    Destino {destino}\n",
    "    Tiepo total: {sum(minutos)} minutos\n",
    "    Total combustible: {sum(combustible.values())}\n",
    "    \"\"\"\n",
    "    for nombre, valor in combustible.items():\n",
    "        reporte += f\"{nombre} tanque --> {valor} litros\\n\"\n",
    "    return reporte\n",
    "    \n",
    "print(mission_report(\"Marte\", 10, 15, 51,50, interno=50, externo=20, adicional=25))\n"
   ]
  }
 ],
 "metadata": {
  "interpreter": {
   "hash": "52a545eb93d7f458f60fc1f9ce89cde1b00fa28e39ce3e123d24348b898881e5"
  },
  "kernelspec": {
   "display_name": "Python 3.10.2 64-bit",
   "language": "python",
   "name": "python3"
  },
  "language_info": {
   "codemirror_mode": {
    "name": "ipython",
    "version": 3
   },
   "file_extension": ".py",
   "mimetype": "text/x-python",
   "name": "python",
   "nbconvert_exporter": "python",
   "pygments_lexer": "ipython3",
   "version": "3.10.2"
  },
  "orig_nbformat": 4
 },
 "nbformat": 4,
 "nbformat_minor": 2
}
