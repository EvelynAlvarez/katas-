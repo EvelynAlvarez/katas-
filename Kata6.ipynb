{
 "cells": [
  {
   "cell_type": "markdown",
   "metadata": {},
   "source": [
    "## Ejercicio 1: Crear y usar listas de Python "
   ]
  },
  {
   "cell_type": "code",
   "execution_count": 1,
   "metadata": {},
   "outputs": [
    {
     "name": "stdout",
     "output_type": "stream",
     "text": [
      "8\n",
      "El último planeta es  Pluton  y en total son  9 planetas |\n"
     ]
    }
   ],
   "source": [
    "planets = ['Mercurio','Venus','Tierra','Marte','Jupiter','Saturno','Urano','Neptuno']\n",
    "numero_de_planetas = len(planets)\n",
    "print(numero_de_planetas)\n",
    "planets.append('Pluton')\n",
    "numero_de_planetas = len(planets)\n",
    "print('El último planeta es ',planets[8], ' y en total son ',numero_de_planetas, 'planetas |')"
   ]
  },
  {
   "cell_type": "markdown",
   "metadata": {},
   "source": [
    "## Ejercicio 2: Trabajando con datos de una lista "
   ]
  },
  {
   "cell_type": "code",
   "execution_count": 6,
   "metadata": {},
   "outputs": [
    {
     "name": "stdout",
     "output_type": "stream",
     "text": [
      "4\n",
      "['Mercurio', 'Venus', 'Tierra', 'Marte']\n",
      "['Saturno', 'Urano', 'Neptuno']\n"
     ]
    }
   ],
   "source": [
    "planets = ['Mercurio','Venus','Tierra','Marte','Jupiter','Saturno','Urano','Neptuno']\n",
    "Planeta_usuario = input('Agrega el nombre del planeta con la primera letra en mayúscula')\n",
    "Localizacion_del_planeta_usuario = planets.index(Planeta_usuario)\n",
    "print(Localizacion_del_planeta_usuario)\n",
    "Planetas_mas_cercanos_al_sol = planets[0:Localizacion_del_planeta_usuario]\n",
    "Planetas_mas_lejanos_al_sol = planets[Localizacion_del_planeta_usuario+1:]\n",
    "print(Planetas_mas_cercanos_al_sol)\n",
    "print(Planetas_mas_lejanos_al_sol)"
   ]
  }
 ],
 "metadata": {
  "interpreter": {
   "hash": "871cb5af1009ab844d78e44fddb4de581a85390bbd111d66fe9c299374148f2e"
  },
  "kernelspec": {
   "display_name": "Python 3.10.2 64-bit",
   "language": "python",
   "name": "python3"
  },
  "language_info": {
   "codemirror_mode": {
    "name": "ipython",
    "version": 3
   },
   "file_extension": ".py",
   "mimetype": "text/x-python",
   "name": "python",
   "nbconvert_exporter": "python",
   "pygments_lexer": "ipython3",
   "version": "3.10.2"
  },
  "orig_nbformat": 4
 },
 "nbformat": 4,
 "nbformat_minor": 2
}
