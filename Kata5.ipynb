{
 "cells": [
  {
   "cell_type": "markdown",
   "metadata": {},
   "source": [
    "## Ejercicio 1: Utilizar operaciones aritméticas"
   ]
  },
  {
   "cell_type": "code",
   "execution_count": 6,
   "metadata": {},
   "outputs": [
    {
     "name": "stdout",
     "output_type": "stream",
     "text": [
      "628949330\n",
      "390577534\n"
     ]
    }
   ],
   "source": [
    "Dis_Tierra = 149597870\n",
    "Dis_Jupiter = 778547200\n",
    "\n",
    "Distacia_entre_ambos = abs(Dis_Tierra-Dis_Jupiter)\n",
    "print(Distacia_entre_ambos)\n",
    "\n",
    "Distancia_Millas = Distacia_entre_ambos * 0.621\n",
    "print(round(Distancia_Millas))"
   ]
  },
  {
   "cell_type": "markdown",
   "metadata": {},
   "source": [
    "## Ejercicio 2 : Convierte cadenas en números y usa valores absolutos"
   ]
  },
  {
   "cell_type": "code",
   "execution_count": 11,
   "metadata": {},
   "outputs": [
    {
     "name": "stdout",
     "output_type": "stream",
     "text": [
      "2\n"
     ]
    }
   ],
   "source": [
    "Dis_Sol_P1 = int(input(\"Agrega la distacia del sol al primer plateta\"))\n",
    "Dis_Sol_P2 = int(input(\"Agrega la distacia del sol al segundo plateta\"))\n",
    "\n",
    "Distancia_entre_P1_P2 = abs(Dis_Sol_P1-Dis_Sol_P2)\n",
    "print(Distancia_entre_P1_P2)"
   ]
  }
 ],
 "metadata": {
  "interpreter": {
   "hash": "871cb5af1009ab844d78e44fddb4de581a85390bbd111d66fe9c299374148f2e"
  },
  "kernelspec": {
   "display_name": "Python 3.10.2 64-bit",
   "language": "python",
   "name": "python3"
  },
  "language_info": {
   "codemirror_mode": {
    "name": "ipython",
    "version": 3
   },
   "file_extension": ".py",
   "mimetype": "text/x-python",
   "name": "python",
   "nbconvert_exporter": "python",
   "pygments_lexer": "ipython3",
   "version": "3.10.2"
  },
  "orig_nbformat": 4
 },
 "nbformat": 4,
 "nbformat_minor": 2
}
