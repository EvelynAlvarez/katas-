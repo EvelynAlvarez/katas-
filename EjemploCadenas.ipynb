{
 "cells": [
  {
   "cell_type": "markdown",
   "metadata": {},
   "source": [
    "## Ejercicio 1: Transformar cadenas"
   ]
  },
  {
   "cell_type": "code",
   "execution_count": 73,
   "metadata": {},
   "outputs": [
    {
     "name": "stdout",
     "output_type": "stream",
     "text": [
      "['Luna:20', 'Kira:30', 'morita:3', 'pancha:5', 'manzanita:0.5', 'asdasd:24', 'blacki:23']\n",
      "Luna:20\n",
      "Kira:30\n",
      "morita:3\n",
      "Luna pesa 20\n",
      "1 Luna pesa 20\n",
      "Es numero\n",
      "1 Kira pesa 30\n",
      "Es numero\n",
      "1 morita pesa 3\n",
      "Es numero\n",
      "1 pancha pesa 5\n",
      "Es numero\n",
      "1 manzanita pesa 0.5\n",
      "No es numero\n",
      "1 asdasd pesa 24\n",
      "Es numero\n",
      "1 blacki pesa 23\n",
      "Es numero\n"
     ]
    }
   ],
   "source": [
    "t= \"\"\"Luna:20,Kira:30,morita:3,pancha:5,manzanita:0.5,asdasd:24,blacki:23\"\"\"\n",
    "f = t.split(\",\")\n",
    "print(f)\n",
    "peso=f[0].split(\":\")\n",
    "print(f[0])\n",
    "print(f[1])\n",
    "print(f[2])\n",
    "print(str(peso[0])+\" pesa \"+str(peso[1]))\n",
    "\n",
    "a=0\n",
    "for datoperrito in f:\n",
    "\n",
    "    pesoperro=datoperrito.split(\":\")\n",
    "    print(str(a+1)+ \" \" + str(pesoperro[0]+\" pesa \" + str(pesoperro[1])))\n",
    "    if pesoperro[1].isnumeric():\n",
    "        print(\"Es numero\")\n",
    "    else:\n",
    "        print(\"No es numero\")\n"
   ]
  },
  {
   "cell_type": "code",
   "execution_count": 81,
   "metadata": {},
   "outputs": [
    {
     "name": "stdout",
     "output_type": "stream",
     "text": [
      "On the Moon, you would weigh about 1/6 of your weight on Earth ola\n",
      "On the Moon, you would weigh about 1/6 of your weight on Earth ola \n",
      "On the Moon, you would weigh about 1/6 of your weight on Earth\n",
      "El nombre es luna y su peso es 20\n"
     ]
    }
   ],
   "source": [
    "mass_percentage = '1/6'\n",
    "peso = 20\n",
    "nombre = \"luna\"\n",
    "print('On the Moon, you would weigh about %s of your weight on Earth %s' % (mass_percentage,'ola'))\n",
    "print('On the Moon, you would weigh about ' + mass_percentage + ' of your weight on Earth'+\" ola \")\n",
    "print(f'On the Moon, you would weigh about {mass_percentage} of your weight on Earth')\n",
    "print(f'El nombre es {nombre} y su peso es {peso}')"
   ]
  },
  {
   "cell_type": "code",
   "execution_count": null,
   "metadata": {},
   "outputs": [],
   "source": []
  }
 ],
 "metadata": {
  "interpreter": {
   "hash": "52a545eb93d7f458f60fc1f9ce89cde1b00fa28e39ce3e123d24348b898881e5"
  },
  "kernelspec": {
   "display_name": "Python 3.10.2 64-bit",
   "language": "python",
   "name": "python3"
  },
  "language_info": {
   "codemirror_mode": {
    "name": "ipython",
    "version": 3
   },
   "file_extension": ".py",
   "mimetype": "text/x-python",
   "name": "python",
   "nbconvert_exporter": "python",
   "pygments_lexer": "ipython3",
   "version": "3.10.2"
  },
  "orig_nbformat": 4
 },
 "nbformat": 4,
 "nbformat_minor": 2
}
